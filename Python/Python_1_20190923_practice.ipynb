{
  "nbformat": 4,
  "nbformat_minor": 0,
  "metadata": {
    "colab": {
      "name": "Python_1_20190923.ipynb",
      "provenance": [],
      "collapsed_sections": []
    },
    "kernelspec": {
      "name": "python3",
      "display_name": "Python 3"
    }
  },
  "cells": [
    {
      "cell_type": "markdown",
      "metadata": {
        "id": "EaoQ6vm0tD8C",
        "colab_type": "text"
      },
      "source": [
        "#簡單的頭腦;簡單的Python 20190923\n",
        "\n",
        "##程式超簡單"
      ]
    },
    {
      "cell_type": "code",
      "metadata": {
        "id": "wC7tYmPfr4RI",
        "colab_type": "code",
        "outputId": "9fbb0747-851e-4ef7-e2c4-5bf3ecc97d0b",
        "colab": {
          "base_uri": "https://localhost:8080/",
          "height": 34
        }
      },
      "source": [
        "print('hello myfirst code')"
      ],
      "execution_count": 0,
      "outputs": [
        {
          "output_type": "stream",
          "text": [
            "hello myfirst code\n"
          ],
          "name": "stdout"
        }
      ]
    },
    {
      "cell_type": "code",
      "metadata": {
        "id": "BLNL0LkouPX8",
        "colab_type": "code",
        "colab": {
          "base_uri": "https://localhost:8080/",
          "height": 134
        },
        "outputId": "cc871c6d-a1eb-42bb-81b0-e4f162a8c907"
      },
      "source": [
        "print('* * *   *     *   * * * * *   *     *        *       * *       *   **')\n",
        "print('*   *    *   *        *       *     *      *   *     *  *      *   **')\n",
        "print('* * *     * *         *       *     *    *       *   *   *     *   **')\n",
        "print('*          *          *       * * * *    *       *   *    *    *   **')\n",
        "print('*          *          *       *     *    *       *   *     *   *   ')\n",
        "print('*          *          *       *     *      *   *     *      *  *   **')\n",
        "print('*          *          *       *     *        *       *       * *   **')"
      ],
      "execution_count": 50,
      "outputs": [
        {
          "output_type": "stream",
          "text": [
            "* * *   *     *   * * * * *   *     *        *       * *       *   **\n",
            "*   *    *   *        *       *     *      *   *     *  *      *   **\n",
            "* * *     * *         *       *     *    *       *   *   *     *   **\n",
            "*          *          *       * * * *    *       *   *    *    *   **\n",
            "*          *          *       *     *    *       *   *     *   *   \n",
            "*          *          *       *     *      *   *     *      *  *   **\n",
            "*          *          *       *     *        *       *       * *   **\n"
          ],
          "name": "stdout"
        }
      ]
    },
    {
      "cell_type": "code",
      "metadata": {
        "id": "DVAW7PjU1_KG",
        "colab_type": "code",
        "outputId": "0721da49-45a7-4908-871f-2d6fce0f769f",
        "colab": {
          "base_uri": "https://localhost:8080/",
          "height": 51
        }
      },
      "source": [
        "x = input('input a new name：')\n",
        "print('Hello, ' + x)"
      ],
      "execution_count": 0,
      "outputs": [
        {
          "output_type": "stream",
          "text": [
            "input a new name：this is no name！\n",
            "Hello, this is no name！\n"
          ],
          "name": "stdout"
        }
      ]
    },
    {
      "cell_type": "code",
      "metadata": {
        "id": "CWeBtvgP2OVV",
        "colab_type": "code",
        "outputId": "3f6a7589-a6f5-4913-cb27-4250e8d104e2",
        "colab": {
          "base_uri": "https://localhost:8080/",
          "height": 51
        }
      },
      "source": [
        "a = input(\"請輸入：\")\n",
        "a"
      ],
      "execution_count": 0,
      "outputs": [
        {
          "output_type": "stream",
          "text": [
            "請輸入：777\n"
          ],
          "name": "stdout"
        },
        {
          "output_type": "execute_result",
          "data": {
            "text/plain": [
              "'777'"
            ]
          },
          "metadata": {
            "tags": []
          },
          "execution_count": 4
        }
      ]
    },
    {
      "cell_type": "markdown",
      "metadata": {
        "id": "qI-6hUX_6tT6",
        "colab_type": "text"
      },
      "source": [
        "##型態錯誤"
      ]
    },
    {
      "cell_type": "code",
      "metadata": {
        "id": "7YY6paYf37ue",
        "colab_type": "code",
        "outputId": "1d129914-cfc2-44c9-e9c9-c4d9a5a6c9f6",
        "colab": {
          "base_uri": "https://localhost:8080/",
          "height": 233
        }
      },
      "source": [
        "a = input(\"請輸入：\")\n",
        "a\n",
        "b=a + 2125\n",
        "b"
      ],
      "execution_count": 0,
      "outputs": [
        {
          "output_type": "stream",
          "text": [
            "請輸入：777\n"
          ],
          "name": "stdout"
        },
        {
          "output_type": "error",
          "ename": "TypeError",
          "evalue": "ignored",
          "traceback": [
            "\u001b[0;31m---------------------------------------------------------------------------\u001b[0m",
            "\u001b[0;31mTypeError\u001b[0m                                 Traceback (most recent call last)",
            "\u001b[0;32m<ipython-input-6-5fb93b841050>\u001b[0m in \u001b[0;36m<module>\u001b[0;34m()\u001b[0m\n\u001b[1;32m      1\u001b[0m \u001b[0ma\u001b[0m \u001b[0;34m=\u001b[0m \u001b[0minput\u001b[0m\u001b[0;34m(\u001b[0m\u001b[0;34m\"請輸入：\"\u001b[0m\u001b[0;34m)\u001b[0m\u001b[0;34m\u001b[0m\u001b[0;34m\u001b[0m\u001b[0m\n\u001b[1;32m      2\u001b[0m \u001b[0ma\u001b[0m\u001b[0;34m\u001b[0m\u001b[0;34m\u001b[0m\u001b[0m\n\u001b[0;32m----> 3\u001b[0;31m \u001b[0mb\u001b[0m\u001b[0;34m=\u001b[0m\u001b[0ma\u001b[0m \u001b[0;34m+\u001b[0m \u001b[0;36m2125\u001b[0m\u001b[0;34m\u001b[0m\u001b[0;34m\u001b[0m\u001b[0m\n\u001b[0m\u001b[1;32m      4\u001b[0m \u001b[0mb\u001b[0m\u001b[0;34m\u001b[0m\u001b[0;34m\u001b[0m\u001b[0m\n",
            "\u001b[0;31mTypeError\u001b[0m: must be str, not int"
          ]
        }
      ]
    },
    {
      "cell_type": "code",
      "metadata": {
        "id": "C8srVCG335jm",
        "colab_type": "code",
        "outputId": "c17f78ca-9260-430b-fd12-9508d5ea7e5a",
        "colab": {
          "base_uri": "https://localhost:8080/",
          "height": 34
        }
      },
      "source": [
        "type(a)"
      ],
      "execution_count": 0,
      "outputs": [
        {
          "output_type": "execute_result",
          "data": {
            "text/plain": [
              "str"
            ]
          },
          "metadata": {
            "tags": []
          },
          "execution_count": 5
        }
      ]
    },
    {
      "cell_type": "code",
      "metadata": {
        "id": "wUuEiAys4HJ-",
        "colab_type": "code",
        "outputId": "13a18c35-4919-434d-9977-f3a5b0c2959e",
        "colab": {
          "base_uri": "https://localhost:8080/",
          "height": 51
        }
      },
      "source": [
        "a = int(input(\"請輸入：\"))\n",
        "a\n",
        "b=a + 2125\n",
        "b"
      ],
      "execution_count": 0,
      "outputs": [
        {
          "output_type": "stream",
          "text": [
            "請輸入：777\n"
          ],
          "name": "stdout"
        },
        {
          "output_type": "execute_result",
          "data": {
            "text/plain": [
              "2902"
            ]
          },
          "metadata": {
            "tags": []
          },
          "execution_count": 7
        }
      ]
    },
    {
      "cell_type": "code",
      "metadata": {
        "id": "Sk7NiyEV4Kne",
        "colab_type": "code",
        "outputId": "958bd895-c613-4481-8f04-f6158ad59665",
        "colab": {
          "base_uri": "https://localhost:8080/",
          "height": 51
        }
      },
      "source": [
        "a = eval(input(\"請輸入：\"))\n",
        "a\n",
        "b=a + 2125\n",
        "b"
      ],
      "execution_count": 0,
      "outputs": [
        {
          "output_type": "stream",
          "text": [
            "請輸入：42131\n"
          ],
          "name": "stdout"
        },
        {
          "output_type": "execute_result",
          "data": {
            "text/plain": [
              "44256"
            ]
          },
          "metadata": {
            "tags": []
          },
          "execution_count": 8
        }
      ]
    },
    {
      "cell_type": "markdown",
      "metadata": {
        "id": "4VpvWX899RQj",
        "colab_type": "text"
      },
      "source": [
        "##要以逗號隔開不可以使用空格"
      ]
    },
    {
      "cell_type": "code",
      "metadata": {
        "id": "W2-ohpl29IJR",
        "colab_type": "code",
        "outputId": "b9a5b0d1-534f-4760-aff8-9500ebc0d019",
        "colab": {
          "base_uri": "https://localhost:8080/",
          "height": 148
        }
      },
      "source": [
        "a,b = eval(input(\"please input two num.\"))\n",
        "print(a)\n",
        "print(b)"
      ],
      "execution_count": 0,
      "outputs": [
        {
          "output_type": "stream",
          "text": [
            "please input two num.1 2\n"
          ],
          "name": "stdout"
        },
        {
          "output_type": "error",
          "ename": "SyntaxError",
          "evalue": "ignored",
          "traceback": [
            "\u001b[0;36m  File \u001b[0;32m\"<string>\"\u001b[0;36m, line \u001b[0;32m1\u001b[0m\n\u001b[0;31m    1 2\u001b[0m\n\u001b[0m      ^\u001b[0m\n\u001b[0;31mSyntaxError\u001b[0m\u001b[0;31m:\u001b[0m unexpected EOF while parsing\n"
          ]
        }
      ]
    },
    {
      "cell_type": "code",
      "metadata": {
        "id": "KzR1KcmB9N2-",
        "colab_type": "code",
        "outputId": "b9bc7a5d-1d53-4a8a-f6db-bf7d354d4443",
        "colab": {
          "base_uri": "https://localhost:8080/",
          "height": 68
        }
      },
      "source": [
        "a,b = eval(input(\"please input two num.\"))\n",
        "print(a)\n",
        "print(b)"
      ],
      "execution_count": 0,
      "outputs": [
        {
          "output_type": "stream",
          "text": [
            "please input two num.1,2\n",
            "1\n",
            "2\n"
          ],
          "name": "stdout"
        }
      ]
    },
    {
      "cell_type": "markdown",
      "metadata": {
        "id": "mAgqfDokmXnY",
        "colab_type": "text"
      },
      "source": [
        "##高階用法"
      ]
    },
    {
      "cell_type": "code",
      "metadata": {
        "id": "9kb-Rxg-kGYn",
        "colab_type": "code",
        "colab": {
          "base_uri": "https://localhost:8080/",
          "height": 118
        },
        "outputId": "573860fe-b51d-4db5-a7b5-1f5dc44dab0e"
      },
      "source": [
        "x, y, z = [int(x) for x in input(\"Enter something here: \").split(input('here have something').split(';')[0])] \n",
        "print(\"First is: \", x) \n",
        "print(\"Second is: \", y) \n",
        "print(\"Third is: \", z) \n",
        "print() "
      ],
      "execution_count": 60,
      "outputs": [
        {
          "output_type": "stream",
          "text": [
            "Enter something here: 79,82,66\n",
            "here have something,;';;[p[p;[[][pf]sa[d][a]vzxvv\n",
            "First is:  79\n",
            "Second is:  82\n",
            "Third is:  66\n",
            "\n"
          ],
          "name": "stdout"
        }
      ]
    }
  ]
}
